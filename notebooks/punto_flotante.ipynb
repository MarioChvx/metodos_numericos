{
 "cells": [
  {
   "attachments": {},
   "cell_type": "markdown",
   "metadata": {},
   "source": [
    "# Aritmética de punto flotante\n",
    "\n",
    "## Notación científica\n",
    "\n",
    "$$\n",
    "32487.23749 = 3.248723749 \\times 10^4 \\\\\n",
    "0.000892 = 8.92 \\times 10^{-4}\n",
    "$$\n",
    "\n",
    "## Normalización\n",
    "\n",
    "Sirve para mantener la uniformidad de la notación científica.\n",
    "\n",
    "### Explicita\n",
    "\n",
    "El punto decimal se recorre a la izquierda de la cifra mas significativa. Ejemplo:\n",
    "\n",
    "$$ 32487.23749 = 0.3248723749 \\times 10^5 $$\n",
    "\n",
    "### Implícita\n",
    "\n",
    "El punto decimal se recorre a la derecha de la cifra mas significativa. Ejemplo:\n",
    "\n",
    "$$ 32487.23749 = 3.248723749 \\times 10^5 $$\n",
    "\n",
    "## Parte fraccionaria de un numero binario\n",
    "\n",
    "Asi como los números en base 10 los números en base 2 también puede tener una parte fraccionaria, primero hay que recordar como se forma un numero entero en sistema binario y decimal.\n",
    "\n",
    "Sea $ c_i $ la cifra en la posición $ i $ y $ n $ el máximo numero de cifras.\n",
    "\n",
    "$$ \n",
    "\\textrm{binario: } 2^n(c_n) + 2^{n-1}(c_{n-1}) + \\cdots + 2^2(c_2) + 2^1(c_1) + 2^0(c_1) \\\\ \n",
    "\\textrm{decimal: } 10^n(c_n) + 10^{n-1}(c_{n-1}) + \\cdots + 10^2(c_2) + 10^1(c_1) + 10^0(c_1)\n",
    "$$\n",
    "\n",
    "Recordando la parte fraccionaria de un numero decimal tenemos que $ 0.1 = \\frac{1}{10} $, $ 0.01 = \\frac{1}{10^2} $, $ 0.001 = \\frac{1}{10^3} $ y asi sucesivamente. Asi tenemos que:\n",
    "\n",
    "$$ \\textrm{decimal fraccionario: } 10^{-1}(c_1) + 10^{-2}(c_2) + 10^{-3}(c_2) + \\cdots + 10^{-(n-1)}(c_{n-1}) + 10^{-n}(c_n) $$ \n",
    "\n",
    "Asi mismo funciona para el sistema binario:\n",
    "\n",
    "$$ \\textrm{binario fraccionario: } 2^{-1}(c_1) + 2^{-2}(c_2) + 2^{-3}(c_2) + \\cdots + 2^{-(n-1)}(c_{n-1}) + 2^{-n}(c_n) $$ \n",
    "\n",
    "Ahora por ejemplo si quisiéramos transforma el siguiente numero $1011.101_2$ a decimal, usando la expresiones anteriores tenemos que:\n",
    "\n",
    "$$\n",
    "2^4(1) + 2^2(0) + 2^1(1) + 2^0(1) + 2^{-1}(1) + 2^{-2}(0) + 2^{-3}(1) \\\\\n",
    "= 16 + 0 + 2 + 1 + \\frac{1}{2} + \\frac{0}{4} + \\frac{1}{8} \\\\\n",
    "= 19 + \\frac{5}{8} \\\\\n",
    "= 19.625\n",
    "$$ "
   ]
  },
  {
   "attachments": {},
   "cell_type": "markdown",
   "metadata": {},
   "source": [
    "## Representación de números de punto flotante en sistemas computacionales\n",
    "\n",
    "### Antiguamente\n",
    "\n",
    "De las primeras formas de representar un numero de punto flotante fue hacerlo de la siguiente forma $[b, n]$ donde $b$ es el numero en binario y $n$ son las posiciones que se recorrerá el punto tomando en cuenta que el punto se considera que por defecto esta en el final del numero, por ejemplo:\n",
    "\n",
    "$$\n",
    "\\textrm{Un numero de 8 bits: }[00010101,2] \\\\\n",
    "\\textrm{Primero recorremos el punto en el numero base 2: } 101.01\\\\\n",
    "\\textrm{Finalmente transformamos el numero al sistema decimal: } 5.25\\\\\n",
    "$$\n",
    "\n",
    "### En la actualidad\n",
    "\n",
    "Para representar un numero de punto flotante se pueden utilizar distintas cantidades de bytes que se dividen en 3 sectores de bits que tienen distintos significados.\n",
    "\n",
    "|#bytes|Nombre común|Signo|Exponente|Fracción (mantissa)|\n",
    "|:---:|:---:|:---:|:---:|:---:|\n",
    "|1|(didáctico)|1|3|4|\n",
    "|2|half precision|1|5|10|\n",
    "|4|single precision|1|8|23|\n",
    "|8|double precision|1|11|52|\n",
    "\n",
    "Para calcular el valor del numero se utiliza la siguiente formula:\n",
    "\n",
    "$$ Valor = S \\cdot 2^E \\cdot 1.M $$\n",
    "\n",
    "\n",
    "### Signo ($S$)\n",
    "\n",
    "El signo siempre es representado por el primer bit, para calcular su valor se utiliza la siguiente expresión:\n",
    "\n",
    "Sea $b_i$ el valor del bit en la posición $i$ y $S$ el valor del signo.\n",
    "\n",
    "$$ S = (-1)^{b_0} $$\n",
    "\n",
    "### Exponente ($E$)\n",
    "\n",
    "El exponente sera el encargado de recorrer las posiciones del punto decimal de nuestra fracción, para el caso de esta representación es necesario poder recorrer el punto hacia delante y haca atrás, asi que el exponente debe poder tener valores negativos, para esto debemos tener un valor auxiliar llamado **bias** ($b$) que nos permitirá representar un numero negativo y se calcula la siguiente manera:\n",
    "\n",
    "Sea $k$ la cantidad de bits correspondientes al exponente\n",
    "\n",
    "$$ b = 2^{k - 1} - 1 $$\n",
    "\n",
    "El valor de $E$ se calcula de la siguiente manera:\n",
    "\n",
    "Sea $e$ el valor en decimal de los bits correspondientes al exponente\n",
    "\n",
    "$$ E = e - b $$\n",
    "\n",
    "### Fracción ($M$)\n",
    "\n",
    "La fracción o mantissa se le conoce también como la cifra significativa, esta se obtiene igual que la parte fraccionaria de un numero binario y siempre se le suma una unidad entera, como si esta fuera normalizada de forma implícita"
   ]
  },
  {
   "cell_type": "code",
   "execution_count": 216,
   "metadata": {},
   "outputs": [],
   "source": [
    "from bitarray import bitarray\n",
    "import re"
   ]
  },
  {
   "attachments": {},
   "cell_type": "markdown",
   "metadata": {},
   "source": [
    "## Definición de las funciones\n",
    "\n",
    "### `fracdec_fracbin`\n",
    "\n",
    "Recibe un numero decimal con parte fraccionaria en formato string y lo transforma a un numero binario con parte decimal.\n"
   ]
  },
  {
   "cell_type": "code",
   "execution_count": 217,
   "metadata": {},
   "outputs": [],
   "source": [
    "def entero_bin(entero: int) -> bitarray:\n",
    "    bin = bitarray()\n",
    "    if entero <= 0:\n",
    "        return bitarray()\n",
    "    while entero > 0:\n",
    "        bin.append(entero % 2)\n",
    "        entero //= 2\n",
    "    return bin[-1::-1]\n",
    "\n",
    "\n",
    "def num_cifras(entero: int) -> int:\n",
    "    cifras = 0\n",
    "    while entero > 0:\n",
    "        cifras += 1\n",
    "        entero //= 10\n",
    "    return cifras\n",
    "\n",
    "\n",
    "def fraccion_bin(fraccion: int, cifras:int, limite: int = 150) -> bitarray:\n",
    "    bin = bitarray()\n",
    "    divisor = 10 ** cifras\n",
    "    if fraccion <= 0:\n",
    "        return bitarray()\n",
    "    while fraccion > 0 and len(bin) < limite:\n",
    "        fraccion *= 2\n",
    "        if fraccion >= divisor:\n",
    "            bin.append(1)\n",
    "            fraccion %= divisor\n",
    "        else:\n",
    "            bin.append(0)\n",
    "    return bin\n",
    "\n",
    "\n",
    "def fracdec_fracbin(numero: str):\n",
    "    if '.' not in numero:\n",
    "        numero.append('.')\n",
    "\n",
    "    if numero[0] == '+':\n",
    "        signo = bitarray([0])\n",
    "        numero.pop(0)\n",
    "    elif numero[0] == '-':\n",
    "        signo = bitarray([1])\n",
    "        numero.pop(0)\n",
    "    else:\n",
    "        signo = bitarray([0])\n",
    "\n",
    "    entero, fraccion = numero.split('.')\n",
    "    if entero == '':\n",
    "        entero = '0'\n",
    "    if fraccion == '':\n",
    "        fraccion = '0'\n",
    "\n",
    "    if entero == '0' and fraccion == '0':\n",
    "        return signo + bitarray([0] * 31)\n",
    "\n",
    "    return (\n",
    "        signo,\n",
    "        entero_bin(int(entero)),\n",
    "        fraccion_bin(int(fraccion), len(fraccion))\n",
    "    )"
   ]
  },
  {
   "attachments": {},
   "cell_type": "markdown",
   "metadata": {},
   "source": [
    "### `fracbin_floatbin`\n",
    "\n",
    "Recibe un numero binario con punto decimal en y lo transforma a un arreglo de bits con formato float.\n"
   ]
  },
  {
   "cell_type": "code",
   "execution_count": 218,
   "metadata": {},
   "outputs": [],
   "source": [
    "def fracbin_floatbin(signo:bitarray, entero: bitarray, fraccion: bitarray, type: int = 32) -> bitarray:\n",
    "    mantissa_size = 23\n",
    "    exponent_size = 8\n",
    "    bias = 127\n",
    "\n",
    "    mantissa = entero + fraccion\n",
    "    ceros = 0\n",
    "    while mantissa[0] == 0:\n",
    "        ceros += 1\n",
    "        mantissa.pop(0)\n",
    "    mantissa = mantissa + bitarray('0' * (mantissa_size + 1))\n",
    "    mantissa = mantissa[1: 23 + 1]\n",
    "\n",
    "    exp_real = int()\n",
    "    if len(entero) >= 1:\n",
    "        exponente = entero_bin(bias + len(entero) - 1)\n",
    "    else:\n",
    "        exponente = entero_bin(bias - (ceros + 1))\n",
    "    exponente = bitarray('0' * (exponent_size - len(exponente))) + exponente\n",
    "\n",
    "    # print(signo, exponente, mantissa, sep= '\\n')\n",
    "    return signo + exponente + mantissa"
   ]
  },
  {
   "cell_type": "code",
   "execution_count": 219,
   "metadata": {},
   "outputs": [
    {
     "data": {
      "text/plain": [
       "bitarray('01000001110010100000010100011110')"
      ]
     },
     "execution_count": 219,
     "metadata": {},
     "output_type": "execute_result"
    }
   ],
   "source": [
    "flotante = fracbin_floatbin(*fracdec_fracbin('25.2525'))\n",
    "flotante"
   ]
  },
  {
   "attachments": {},
   "cell_type": "markdown",
   "metadata": {},
   "source": [
    "### `floatbin_fracbin`\n",
    "\n",
    "Recibe un arreglo binario con formato float y lo transforma en un numero binario con punto decimal.\n"
   ]
  },
  {
   "cell_type": "code",
   "execution_count": 220,
   "metadata": {},
   "outputs": [],
   "source": [
    "def floatbin_fracbin(flotante: bitarray, type: int = 32):\n",
    "    bias = 127\n",
    "    exponente_size = 8\n",
    "    signo = flotante[0]\n",
    "    exponente = bin_entero(flotante[1: 1 + exponente_size]) - bias\n",
    "\n",
    "    mantissa = flotante[1 + exponente_size:]\n",
    "    if exponente >= 0:\n",
    "        entero = bitarray([1]) + mantissa[:exponente]\n",
    "        fraccion =  mantissa[exponente:]\n",
    "    else:\n",
    "        entero = bitarray()\n",
    "        fraccion = bitarray([0] * abs(exponente)) + bitarray([1]) + mantissa\n",
    "\n",
    "    return signo, entero, fraccion\n",
    "\n",
    "\n",
    "def bin_entero(bin: bitarray) -> int:\n",
    "    potencia = len(bin) - 1\n",
    "    res = 0\n",
    "    for b in bin:\n",
    "        res += b * (2 ** potencia)\n",
    "        potencia -= 1\n",
    "    return res\n"
   ]
  },
  {
   "attachments": {},
   "cell_type": "markdown",
   "metadata": {},
   "source": [
    "### `fracbin_fracdec`\n",
    "\n",
    "Recibe un numero binario con punto decimal y lo transforma en uno decimal con parte fraccionaria.\n"
   ]
  },
  {
   "cell_type": "code",
   "execution_count": 221,
   "metadata": {},
   "outputs": [],
   "source": [
    "def fracbin_fracdec(signo: bitarray, entero: bitarray, fraccion: bitarray) -> str:\n",
    "    entero = str(bin_entero(entero))\n",
    "    fraccion = fraccion_str(*bin_fraccion(fraccion))\n",
    "    return entero + '.' + fraccion\n",
    "\n",
    "\n",
    "def bin_fraccion(bin: bitarray):\n",
    "    potencia = len(bin)\n",
    "    numerador = 0\n",
    "    denominador = 2 ** potencia\n",
    "    while potencia:\n",
    "        potencia -= 1\n",
    "        numerador += bin[0] * 2 ** potencia\n",
    "        bin.pop(0)\n",
    "    return numerador, denominador\n",
    "\n",
    "\n",
    "def fraccion_str(numerador: int, denominador: int) -> str:\n",
    "    res = str()\n",
    "    i = 0\n",
    "    while numerador > 0 and i < 10:\n",
    "        res = res + str(numerador // denominador)\n",
    "        numerador = (numerador % denominador) * 10\n",
    "        i += 1\n",
    "    return res[1:]"
   ]
  },
  {
   "cell_type": "code",
   "execution_count": 222,
   "metadata": {},
   "outputs": [
    {
     "data": {
      "text/plain": [
       "'25.252498626'"
      ]
     },
     "execution_count": 222,
     "metadata": {},
     "output_type": "execute_result"
    }
   ],
   "source": [
    "fracbin_fracdec(*floatbin_fracbin(flotante))"
   ]
  }
 ],
 "metadata": {
  "kernelspec": {
   "display_name": "venv",
   "language": "python",
   "name": "python3"
  },
  "language_info": {
   "codemirror_mode": {
    "name": "ipython",
    "version": 3
   },
   "file_extension": ".py",
   "mimetype": "text/x-python",
   "name": "python",
   "nbconvert_exporter": "python",
   "pygments_lexer": "ipython3",
   "version": "3.10.7"
  },
  "orig_nbformat": 4
 },
 "nbformat": 4,
 "nbformat_minor": 2
}
