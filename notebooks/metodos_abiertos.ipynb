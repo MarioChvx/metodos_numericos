{
 "cells": [
  {
   "attachments": {},
   "cell_type": "markdown",
   "metadata": {},
   "source": [
    "# Métodos abiertos\n"
   ]
  },
  {
   "cell_type": "code",
   "execution_count": 1,
   "metadata": {},
   "outputs": [],
   "source": [
    "# Useful things\n",
    "import matplotlib.pyplot as plt\n",
    "MAX_ITERATIONS = 50"
   ]
  },
  {
   "attachments": {},
   "cell_type": "markdown",
   "metadata": {},
   "source": [
    "## Método de iteración de punto fijo\n"
   ]
  },
  {
   "attachments": {},
   "cell_type": "markdown",
   "metadata": {},
   "source": [
    "## Método de Newton Rapson"
   ]
  },
  {
   "attachments": {},
   "cell_type": "markdown",
   "metadata": {},
   "source": [
    "El método de Newton Rapson se deriva del **polinomio de Taylor** y aproxima la raíz de una función utilizando la derivada de la función."
   ]
  },
  {
   "cell_type": "code",
   "execution_count": 4,
   "metadata": {},
   "outputs": [],
   "source": [
    "def newton_rapson(x: float, f, df, tol_err: float) -> float:\n",
    "    a, b = x, 0\n",
    "    err = 1\n",
    "    i = 0\n",
    "    while (f(a) != 0 or err > tol_err) and i < MAX_ITERATIONS:\n",
    "        b = a - (f(a) / df(a))\n",
    "        err = abs((a - b) / a)\n",
    "        a, b = b, 0\n",
    "        i += 1\n",
    "        print(i, a, err)\n",
    "    return a"
   ]
  },
  {
   "cell_type": "code",
   "execution_count": 5,
   "metadata": {},
   "outputs": [],
   "source": [
    "def f(x):\n",
    "    return x ** 2\n",
    "\n",
    "def df(x):\n",
    "    return 2 * x"
   ]
  },
  {
   "cell_type": "code",
   "execution_count": 6,
   "metadata": {},
   "outputs": [
    {
     "name": "stdout",
     "output_type": "stream",
     "text": [
      "1 -0.5 0.5\n",
      "2 -0.25 0.5\n",
      "3 -0.125 0.5\n",
      "4 -0.0625 0.5\n",
      "5 -0.03125 0.5\n",
      "6 -0.015625 0.5\n",
      "7 -0.0078125 0.5\n",
      "8 -0.00390625 0.5\n",
      "9 -0.001953125 0.5\n",
      "10 -0.0009765625 0.5\n",
      "11 -0.00048828125 0.5\n",
      "12 -0.000244140625 0.5\n",
      "13 -0.0001220703125 0.5\n",
      "14 -6.103515625e-05 0.5\n",
      "15 -3.0517578125e-05 0.5\n",
      "16 -1.52587890625e-05 0.5\n",
      "17 -7.62939453125e-06 0.5\n",
      "18 -3.814697265625e-06 0.5\n",
      "19 -1.9073486328125e-06 0.5\n",
      "20 -9.5367431640625e-07 0.5\n",
      "21 -4.76837158203125e-07 0.5\n",
      "22 -2.384185791015625e-07 0.5\n",
      "23 -1.1920928955078125e-07 0.5\n",
      "24 -5.960464477539063e-08 0.5\n",
      "25 -2.9802322387695312e-08 0.5\n",
      "26 -1.4901161193847656e-08 0.5\n",
      "27 -7.450580596923828e-09 0.5\n",
      "28 -3.725290298461914e-09 0.5\n",
      "29 -1.862645149230957e-09 0.5\n",
      "30 -9.313225746154785e-10 0.5\n",
      "31 -4.656612873077393e-10 0.5\n",
      "32 -2.3283064365386963e-10 0.5\n",
      "33 -1.1641532182693481e-10 0.5\n",
      "34 -5.820766091346741e-11 0.5\n",
      "35 -2.9103830456733704e-11 0.5\n",
      "36 -1.4551915228366852e-11 0.5\n",
      "37 -7.275957614183426e-12 0.5\n",
      "38 -3.637978807091713e-12 0.5\n",
      "39 -1.8189894035458565e-12 0.5\n",
      "40 -9.094947017729282e-13 0.5\n",
      "41 -4.547473508864641e-13 0.5\n",
      "42 -2.2737367544323206e-13 0.5\n",
      "43 -1.1368683772161603e-13 0.5\n",
      "44 -5.684341886080802e-14 0.5\n",
      "45 -2.842170943040401e-14 0.5\n",
      "46 -1.4210854715202004e-14 0.5\n",
      "47 -7.105427357601002e-15 0.5\n",
      "48 -3.552713678800501e-15 0.5\n",
      "49 -1.7763568394002505e-15 0.5\n",
      "50 -8.881784197001252e-16 0.5\n"
     ]
    },
    {
     "data": {
      "text/plain": [
       "-8.881784197001252e-16"
      ]
     },
     "execution_count": 6,
     "metadata": {},
     "output_type": "execute_result"
    }
   ],
   "source": [
    "newton_rapson(-1, f, df, 0.0001)"
   ]
  },
  {
   "attachments": {},
   "cell_type": "markdown",
   "metadata": {},
   "source": [
    "## Método de la secante"
   ]
  }
 ],
 "metadata": {
  "kernelspec": {
   "display_name": "eda_prog",
   "language": "python",
   "name": "python3"
  },
  "language_info": {
   "codemirror_mode": {
    "name": "ipython",
    "version": 3
   },
   "file_extension": ".py",
   "mimetype": "text/x-python",
   "name": "python",
   "nbconvert_exporter": "python",
   "pygments_lexer": "ipython3",
   "version": "3.11.2"
  },
  "orig_nbformat": 4
 },
 "nbformat": 4,
 "nbformat_minor": 2
}
