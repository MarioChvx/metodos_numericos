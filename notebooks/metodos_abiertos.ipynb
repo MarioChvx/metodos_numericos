{
 "cells": [
  {
   "attachments": {},
   "cell_type": "markdown",
   "metadata": {},
   "source": [
    "# Métodos abiertos\n"
   ]
  },
  {
   "cell_type": "code",
   "execution_count": 20,
   "metadata": {},
   "outputs": [],
   "source": [
    "# Useful things\n",
    "import matplotlib.pyplot as plt\n",
    "MAX_ITERATIONS = 50"
   ]
  },
  {
   "attachments": {},
   "cell_type": "markdown",
   "metadata": {},
   "source": [
    "## Método de iteración de punto fijo\n"
   ]
  },
  {
   "attachments": {},
   "cell_type": "markdown",
   "metadata": {},
   "source": [
    "El metodo del punto fijo utiliza el concepto del punto fijo para aproximarse a la solución.\n",
    "\n",
    "> **Punto fijo**: se dice que un punto $s$ es fijo si se cumple con los siguiente $x = g(x)$\n",
    "\n",
    "Se sabe que una ecuacion trascendental $f(x) = 0$ pude escribirse de la forma $x = g(x)$, entonces podemos definir un método recursivo con la siguiente operación $x_n = g(x_{n-1})$ con una suposicion inicial $x_0$."
   ]
  },
  {
   "cell_type": "code",
   "execution_count": 21,
   "metadata": {},
   "outputs": [],
   "source": [
    "def fixed_point(x: float, f: callable, g: callable, error: float) -> float:\n",
    "    xn = 0\n",
    "    for _ in range(MAX_ITERATIONS):\n",
    "        xn = g(x)\n",
    "        print(xn)\n",
    "        if f(xn) == 0 or abs(xn - x) < error:\n",
    "            return xn\n",
    "        x = xn\n",
    "    return xn"
   ]
  },
  {
   "cell_type": "code",
   "execution_count": 22,
   "metadata": {},
   "outputs": [],
   "source": [
    "import math\n",
    "\n",
    "\n",
    "def f(x):\n",
    "    return math.cos(x) - 3 * x + 1\n",
    "\n",
    "\n",
    "def g(x):\n",
    "    return (math.cos(x) + 1) / 3"
   ]
  },
  {
   "cell_type": "code",
   "execution_count": 23,
   "metadata": {},
   "outputs": [
    {
     "name": "stdout",
     "output_type": "stream",
     "text": [
      "0.6666666666666666\n",
      "0.595295753592316\n",
      "0.6093275633817291\n",
      "0.6066776831878363\n",
      "0.607182245997088\n",
      "0.6070863204651048\n"
     ]
    },
    {
     "data": {
      "text/plain": [
       "0.6070863204651048"
      ]
     },
     "execution_count": 23,
     "metadata": {},
     "output_type": "execute_result"
    }
   ],
   "source": [
    "fixed_point(0, f, g, 0.0001)"
   ]
  },
  {
   "attachments": {},
   "cell_type": "markdown",
   "metadata": {},
   "source": [
    "## Método de Newton Rapson"
   ]
  },
  {
   "attachments": {},
   "cell_type": "markdown",
   "metadata": {},
   "source": [
    "El método de Newton Rapson se deriva del **polinomio de Taylor** y aproxima la raíz de una función utilizando la derivada de la función."
   ]
  },
  {
   "cell_type": "code",
   "execution_count": 24,
   "metadata": {},
   "outputs": [],
   "source": [
    "def newton_rapson(x: float, f: callable, fp: callable, error: float) -> float:\n",
    "    print(*'x, fx, calculate_error'.split(','), sep= '\\t\\t')\n",
    "    for _ in range(MAX_ITERATIONS):\n",
    "        fx = f(x)\n",
    "        fpx = fp(x)\n",
    "        x_n = x - fx / fpx\n",
    "        calculate_error = abs((x_n - x))\n",
    "        print(*[f'{v:.7f}' for v in [x, fx, calculate_error]], sep= '\\t')\n",
    "        if f(x_n) == 0 or error > calculate_error:\n",
    "            return x_n\n",
    "        x = x_n\n",
    "    return x"
   ]
  },
  {
   "cell_type": "code",
   "execution_count": 25,
   "metadata": {},
   "outputs": [],
   "source": [
    "def f(x):\n",
    "    return x ** 2\n",
    "\n",
    "def df(x):\n",
    "    return 2 * x"
   ]
  },
  {
   "cell_type": "code",
   "execution_count": 26,
   "metadata": {},
   "outputs": [
    {
     "name": "stdout",
     "output_type": "stream",
     "text": [
      "x\t\t fx\t\t calculate_error\n",
      "-1.0000000\t1.0000000\t0.5000000\n",
      "-0.5000000\t0.2500000\t0.2500000\n",
      "-0.2500000\t0.0625000\t0.1250000\n",
      "-0.1250000\t0.0156250\t0.0625000\n",
      "-0.0625000\t0.0039062\t0.0312500\n",
      "-0.0312500\t0.0009766\t0.0156250\n",
      "-0.0156250\t0.0002441\t0.0078125\n",
      "-0.0078125\t0.0000610\t0.0039062\n",
      "-0.0039062\t0.0000153\t0.0019531\n",
      "-0.0019531\t0.0000038\t0.0009766\n"
     ]
    },
    {
     "data": {
      "text/plain": [
       "-0.0009765625"
      ]
     },
     "execution_count": 26,
     "metadata": {},
     "output_type": "execute_result"
    }
   ],
   "source": [
    "newton_rapson(-1, f, df, 0.001)"
   ]
  },
  {
   "attachments": {},
   "cell_type": "markdown",
   "metadata": {},
   "source": [
    "## Método de la secante"
   ]
  },
  {
   "attachments": {},
   "cell_type": "markdown",
   "metadata": {},
   "source": [
    "El método de la secante recibe como entrada una función $f(x)$, dos aproximaciones iniciales $x_0$, $x_1$ y un error tolerable $\\epsilon$. Con las dos aproximaciones iniciales traza una recta que pasa por $(x_0, f(x_0))$ y $(x_1, f(x_1))$ luego calcula donde esta recta corta al eje de las abscisas y este punto sera la nueva $x_n$, itera asi con los últimos dos puntos hasta llegar a la solución o un error tolerable."
   ]
  },
  {
   "cell_type": "code",
   "execution_count": 28,
   "metadata": {},
   "outputs": [],
   "source": [
    "def secant(x0: float, x1:float, f: callable, error: float) -> float:\n",
    "    for _ in range(MAX_ITERATIONS):\n",
    "        xa = x1 - ((x0 - x1) / (f(x0) - f(x1))) * f(x1)\n",
    "        print(xa)\n",
    "        if f(xa) == 0 or abs(xa - x1) < error:\n",
    "            return xa\n",
    "        x0, x1 = x1, xa\n",
    "    return 0"
   ]
  },
  {
   "cell_type": "code",
   "execution_count": 31,
   "metadata": {},
   "outputs": [],
   "source": [
    "def f(x):\n",
    "    return x ** 3 - x - 1"
   ]
  },
  {
   "cell_type": "code",
   "execution_count": 32,
   "metadata": {},
   "outputs": [
    {
     "name": "stdout",
     "output_type": "stream",
     "text": [
      "1.1666666666666667\n",
      "1.2531120331950207\n",
      "1.3372064458416564\n",
      "1.323850096387641\n",
      "1.324707936532088\n"
     ]
    },
    {
     "data": {
      "text/plain": [
       "1.324707936532088"
      ]
     },
     "execution_count": 32,
     "metadata": {},
     "output_type": "execute_result"
    }
   ],
   "source": [
    "secant(1, 2, f, 0.01)"
   ]
  }
 ],
 "metadata": {
  "kernelspec": {
   "display_name": "eda_prog",
   "language": "python",
   "name": "python3"
  },
  "language_info": {
   "codemirror_mode": {
    "name": "ipython",
    "version": 3
   },
   "file_extension": ".py",
   "mimetype": "text/x-python",
   "name": "python",
   "nbconvert_exporter": "python",
   "pygments_lexer": "ipython3",
   "version": "3.11.2"
  },
  "orig_nbformat": 4
 },
 "nbformat": 4,
 "nbformat_minor": 2
}
