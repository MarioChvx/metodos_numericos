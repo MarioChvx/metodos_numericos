{
 "cells": [
  {
   "attachments": {},
   "cell_type": "markdown",
   "metadata": {},
   "source": [
    "# Metodos cerrados"
   ]
  },
  {
   "attachments": {},
   "cell_type": "markdown",
   "metadata": {},
   "source": [
    "## Bisección\n",
    "\n",
    "Recibe como parámetros una función, un intervalo, un limite de iteraciones y un error tolerable (o una tolerancia). Para determinar o aproximar la raiz el algoritmo parte a la mitad el intervalo y determina en cual de los dos se encuentra la raiz, repite esta accion el numero de iteraciones o hasta que el error calculado sea menor que el error tolerable."
   ]
  },
  {
   "attachments": {},
   "cell_type": "markdown",
   "metadata": {},
   "source": [
    "Tomando $m$ como el punto medio del intervalo $(a,b)$ tenemos que:\n",
    "\n",
    "**Tolerancia:** Distancia maxima tolerable entre la solución real y la solución aproximada. \n",
    "\n",
    "$$ Distancia = | m_{(actual)} - m_{(anterior)}| $$\n",
    "\n",
    "En este caso $m_{(anterior)}$ se puede sustituir por cual quiera de los extremos ya que alguno de los dos fue el punto medio de la anterior iteración y la distancia que tiene al punto medio es la misma.\n",
    "\n",
    "**Error:** Es la razón de la distancia respecto al valor medio calculado.\n",
    "\n",
    "$$ E_r = \\left| \\frac{m_{(actual)} - m_{(anterior)}}{m_{(actual)}} \\right| $$"
   ]
  },
  {
   "attachments": {},
   "cell_type": "markdown",
   "metadata": {},
   "source": [
    "### Algoritmo\n",
    "\n",
    "1. Inicializar $i = 0$ (contador de iteraciones), $m = 0$ (punto medio)\n",
    "\n",
    "2. Determina si el intervalo $(a, b)$ contiene a la raíz, si es asi continua en otro caso devuelve una excepción, si la siguiente expresión es verdadera entonces el intervalo contiene a la función:\n",
    "\n",
    "$$ f(a) \\cdot f(b) < 0 $$\n",
    "\n",
    "3. Calcular el valor medio y asignarlo a m de de la siguiente manera.\n",
    "\n",
    "$$ m = \\frac{a + b}{2} $$\n",
    "\n",
    "4. Evaluar si el error calculado ($E_r$) es menor que el error tolerado, si el punto medio evaluado en la función es la raíz, si alguna de estas dos se cumple debemos regresar el valor medio y termina el algoritmo.\n",
    "\n",
    "$$ E_r = \\left| \\frac{m_{(actual)} - m_{(anterior)}}{m_{(actual)}} \\right| , f(m) $$\n",
    "\n",
    "5. Evaluar si $ f(a) \\cdot f(m) < 0 $ entonces la raíz se encuentra en el intervalo $(a, m)$ entonces asignamos a $b$ el valor de $m$ en otro caso asignamos a $a$ el valor de $m$.\n",
    "\n",
    "6. Aumentar el valor de $i$ en 1 y comparar si es menor o igual que las iteraciones si lo es volver al paso 2 si no regresar el valor de $m$ y terminar la función."
   ]
  },
  {
   "attachments": {},
   "cell_type": "markdown",
   "metadata": {},
   "source": [
    "### Bisección en python"
   ]
  },
  {
   "cell_type": "code",
   "execution_count": 2,
   "metadata": {},
   "outputs": [],
   "source": [
    "def biseccion(f, intervalo, iteraciones: int, error: float) -> float:\n",
    "    a = intervalo[0]\n",
    "    b = intervalo[1]\n",
    "\n",
    "    # Validar que el intervalo proporcionado sea valido y contenga la raíz\n",
    "    if f(a) * f(b) > 0: \n",
    "        raise ValueError('El intervalo no contiene la solución')\n",
    "\n",
    "    print('iter', 'a', 'b', 'm', 'error', sep= '\\t')\n",
    "    for i in range(iteraciones):\n",
    "        # Determinar el punto medio entre ambos extremos\n",
    "        m = (b + a) / 2\n",
    "        print(i, a, b, m, abs(m - a) / m, sep= '\\t')\n",
    "        # Evaluar si el error calculado es menor que el error tolerable\n",
    "        # o si el punto medio es la raíz\n",
    "        if abs(m - a) / m < error or f(m) == 0:\n",
    "            return m\n",
    "        # Evaluar si el primer intervalo contiene la raíz\n",
    "        elif f(a) * f(m) < 0:\n",
    "            b = m\n",
    "        # Si el primero no lo tiene el segundo la contiene\n",
    "        else:\n",
    "            a = m\n",
    "    return m\n"
   ]
  },
  {
   "attachments": {},
   "cell_type": "markdown",
   "metadata": {},
   "source": [
    "### Probando la función"
   ]
  },
  {
   "cell_type": "code",
   "execution_count": 3,
   "metadata": {},
   "outputs": [],
   "source": [
    "def f(x):\n",
    "    return (x ** 2) - x - 1"
   ]
  },
  {
   "cell_type": "code",
   "execution_count": 4,
   "metadata": {},
   "outputs": [
    {
     "name": "stdout",
     "output_type": "stream",
     "text": [
      "iter\ta\tb\tm\terror\n",
      "0\t0\t2\t1.0\t1.0\n",
      "1\t1.0\t2\t1.5\t0.3333333333333333\n",
      "2\t1.5\t2\t1.75\t0.14285714285714285\n",
      "3\t1.5\t1.75\t1.625\t0.07692307692307693\n"
     ]
    },
    {
     "data": {
      "text/plain": [
       "1.625"
      ]
     },
     "execution_count": 4,
     "metadata": {},
     "output_type": "execute_result"
    }
   ],
   "source": [
    "biseccion(f, (0,2), 5, 0.08)"
   ]
  },
  {
   "attachments": {},
   "cell_type": "markdown",
   "metadata": {},
   "source": [
    "## Método de la falsa posición"
   ]
  },
  {
   "attachments": {},
   "cell_type": "markdown",
   "metadata": {},
   "source": [
    "El método de la falsa posición calcula la raíz de una función, para esto requiere la función $f(x)$, un intervalo inicial que contenga a la raíz $[a,b]$ y un erro tolerable $E$, aproxima la solución trazando una linea recta que va del punto $(a, f(a))$ al $(b, f(b))$, luego calcula en que punto esta linea intersecta con el eje $x$ a este punto le llamara $x_n$ y se dividirá el rango $[a,b]$ en $[a, x_n]$ y $[x_n, b]$ luego se determinara cual de los dos contiene a la raíz y se repetirán los pasos con ese intervalo."
   ]
  },
  {
   "attachments": {},
   "cell_type": "markdown",
   "metadata": {},
   "source": [
    "### Definición en Python"
   ]
  },
  {
   "cell_type": "code",
   "execution_count": 8,
   "metadata": {},
   "outputs": [],
   "source": [
    "MAX_ITER = 50\n",
    "\n",
    "def fake_position(f, interval: tuple, error: float) -> float:\n",
    "    a = interval[0]\n",
    "    b = interval[1]\n",
    "\n",
    "    # Validar que el intervalo proporcionado sea valido y contenga la raíz\n",
    "    if f(a) * f(b) > 0: \n",
    "        raise ValueError('El intervalo no contiene la solución')\n",
    "\n",
    "    print('iter', 'a', 'b', 'm', 'error', sep= '\\t')\n",
    "    for i in range(MAX_ITER):\n",
    "        # Determinar el punto medio entre ambos extremos\n",
    "        m = (b + a) / 2\n",
    "        m = (a * f(b) - b * f(a)) / (f(b) - f(a))\n",
    "        print(i, a, b, m, abs((m - a) / m), sep= '\\t')\n",
    "        # Evaluar si el error calculado es menor que el error tolerable\n",
    "        # o si el punto medio es la raíz\n",
    "        if abs((m - a) / m) < error or f(m) == 0:\n",
    "            return m\n",
    "        # Evaluar si el primer intervalo contiene la raíz\n",
    "        elif f(a) * f(m) < 0:\n",
    "            b = m\n",
    "        # Si el primero no lo tiene el segundo la contiene\n",
    "        else:\n",
    "            a = m\n",
    " \n",
    "    pass"
   ]
  },
  {
   "cell_type": "code",
   "execution_count": 9,
   "metadata": {},
   "outputs": [
    {
     "name": "stdout",
     "output_type": "stream",
     "text": [
      "iter\ta\tb\tm\terror\n",
      "0\t0\t2\t1.0\t1.0\n",
      "1\t1.0\t2\t1.5\t0.3333333333333333\n",
      "2\t1.5\t2\t1.6\t0.06250000000000006\n"
     ]
    },
    {
     "data": {
      "text/plain": [
       "1.6"
      ]
     },
     "execution_count": 9,
     "metadata": {},
     "output_type": "execute_result"
    }
   ],
   "source": [
    "fake_position(f, (0,2), 0.08)"
   ]
  }
 ],
 "metadata": {
  "kernelspec": {
   "display_name": "venv",
   "language": "python",
   "name": "python3"
  },
  "language_info": {
   "codemirror_mode": {
    "name": "ipython",
    "version": 3
   },
   "file_extension": ".py",
   "mimetype": "text/x-python",
   "name": "python",
   "nbconvert_exporter": "python",
   "pygments_lexer": "ipython3",
   "version": "3.11.2"
  },
  "orig_nbformat": 4
 },
 "nbformat": 4,
 "nbformat_minor": 2
}
