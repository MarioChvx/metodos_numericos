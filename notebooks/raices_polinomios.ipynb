{
 "cells": [
  {
   "attachments": {},
   "cell_type": "markdown",
   "metadata": {},
   "source": [
    "# Métodos raíces de polinomios"
   ]
  },
  {
   "attachments": {},
   "cell_type": "markdown",
   "metadata": {},
   "source": [
    "Son métodos numéricos que pueden calcular las raíces de funciones, pero son especialmente buenos para calcular raíces de polinomios."
   ]
  },
  {
   "cell_type": "code",
   "execution_count": 21,
   "metadata": {},
   "outputs": [],
   "source": [
    "import math"
   ]
  },
  {
   "cell_type": "markdown",
   "metadata": {},
   "source": [
    "## Muller"
   ]
  },
  {
   "attachments": {},
   "cell_type": "markdown",
   "metadata": {},
   "source": [
    "Es una extensión del método de la secante, utiliza dos aproximaciones iniciales $x_0$ y $x_1$ y determina una tercera aproximación $x_2$ trazando una linea entre los dos puntos anteriores $(x_0, f(x_0))$, $(x_1, f(x_1))$, luego con los tres puntos se calcula una parábola que pase por los puntos $(x_0, f(x_0))$, $(x_1, f(x_1))$, $(x_2, f(x_2))$ asi la aproximación $x_n$ sera el punto donde la parabola corta el eje $f(x)$. El método itera hasta llegar a la precision solicitada.\n",
    "\n",
    "Asi utilizando la formula general para resolver ecuaciones de segundo grado, es posible determinar una parte real y una parte imaginaria de la solución si es que hay una."
   ]
  },
  {
   "cell_type": "markdown",
   "metadata": {},
   "source": [
    "### Implementación en Python"
   ]
  },
  {
   "cell_type": "code",
   "execution_count": 3,
   "metadata": {},
   "outputs": [],
   "source": [
    "def muller(f, x0, x1, x2, tol=1e-10, max_iter=50):\n",
    "    for i in range(max_iter):\n",
    "        print(x2)\n",
    "        h1 = x1 - x0\n",
    "        h2 = x2 - x1\n",
    "        delta1 = (f(x1) - f(x0)) / h1\n",
    "        delta2 = (f(x2) - f(x1)) / h2\n",
    "        d = (delta2 - delta1) / (h2 + h1)\n",
    "        b = delta2 + h2 * d\n",
    "        D = (b ** 2 - 4 * f(x2) * d) ** 0.5\n",
    "        if abs(b - D) < abs(b + D):\n",
    "            E = b + D\n",
    "        else:\n",
    "            E = b - D\n",
    "        h = -2 * f(x2) / E\n",
    "        p = x2 + h\n",
    "        if abs(h) < tol:\n",
    "            return p\n",
    "        x0 = x1\n",
    "        x1 = x2\n",
    "        x2 = p\n",
    "\n",
    "    raise ValueError(f'Failed to converge after {max_iter} iterations')"
   ]
  },
  {
   "cell_type": "code",
   "execution_count": 4,
   "metadata": {},
   "outputs": [],
   "source": [
    "def f(x):\n",
    "    return x ** 3 - x - 1"
   ]
  },
  {
   "cell_type": "code",
   "execution_count": 5,
   "metadata": {},
   "outputs": [
    {
     "name": "stdout",
     "output_type": "stream",
     "text": [
      "2\n",
      "1.2637626158259732\n",
      "1.3217428253201164\n",
      "1.324689527125635\n",
      "1.3247179584537665\n",
      "1.324717957244746\n"
     ]
    },
    {
     "data": {
      "text/plain": [
       "1.324717957244746"
      ]
     },
     "execution_count": 5,
     "metadata": {},
     "output_type": "execute_result"
    }
   ],
   "source": [
    "muller(f, 0, 1, 2)"
   ]
  },
  {
   "attachments": {},
   "cell_type": "markdown",
   "metadata": {},
   "source": [
    "## Bairstow"
   ]
  },
  {
   "attachments": {},
   "cell_type": "markdown",
   "metadata": {},
   "source": [
    "Mediante una division algebraica a un polinomio se busca obtener un polinomio grado dos del cual se obtienen sus raíces utilizando indices calculados con base al polinomio original."
   ]
  },
  {
   "cell_type": "code",
   "execution_count": 22,
   "metadata": {},
   "outputs": [],
   "source": [
    "def bairstow(a, r, s, tol=1e-10, max_iter=100):\n",
    "    n = len(a) - 1\n",
    "    b = [0] * (n + 1)\n",
    "    c = [0] * (n + 1)\n",
    "    print(*'i, r, s'.split(','), sep='\\t'*2)\n",
    "    for i in range(max_iter):\n",
    "        b[n] = a[n]\n",
    "        b[n-1] = a[n-1] + r*b[n]\n",
    "        for j in range(n-2, -1, -1):\n",
    "            b[j] = a[j] + r*b[j+1] + s*b[j+2]\n",
    "        c[n] = b[n]\n",
    "        c[n-1] = b[n-1] + r*c[n]\n",
    "        for j in range(n-2, -1, -1):\n",
    "            c[j] = b[j] + r*c[j+1] + s*c[j+2]\n",
    "        det = c[2]*c[2] - c[1]*c[3]\n",
    "        dr = (-b[1]*c[2] + b[0]*c[3]) / det\n",
    "        ds = (-b[0]*c[2] + b[1]*c[1]) / det\n",
    "        r = r + dr\n",
    "        s = s + ds\n",
    "        if abs(dr) < tol and abs(ds) < tol:\n",
    "            return r, s\n",
    "        print(*[f'{v:.7f}' for v in [i, r, s]], sep='\\t')\n",
    "    raise ValueError(\"Bairstow's method failed to converge\")"
   ]
  },
  {
   "attachments": {},
   "cell_type": "markdown",
   "metadata": {},
   "source": [
    "Muller a la función:\n",
    "\n",
    "$ f(x) = x^4 - 3x^3 - 3x^2 - 3x + 2 $"
   ]
  },
  {
   "cell_type": "code",
   "execution_count": 23,
   "metadata": {},
   "outputs": [
    {
     "name": "stdout",
     "output_type": "stream",
     "text": [
      "i\t\t r\t\t s\n",
      "0.0000000\t12.7171381\t-16.5176206\n",
      "1.0000000\t2.9848746\t92.7932854\n",
      "2.0000000\t1.8234885\t50.8273921\n",
      "3.0000000\t1.3050288\t26.7452358\n",
      "4.0000000\t1.0829283\t14.0550745\n",
      "5.0000000\t1.0300046\t7.5632985\n",
      "6.0000000\t1.1134625\t4.2832228\n",
      "7.0000000\t1.3500282\t2.5973570\n",
      "8.0000000\t1.7364113\t1.5191360\n",
      "9.0000000\t2.3063561\t0.1666092\n",
      "10.0000000\t2.7548813\t-0.9189677\n",
      "11.0000000\t2.6341178\t-0.6342144\n",
      "12.0000000\t2.6196371\t-0.6026908\n",
      "13.0000000\t2.6194724\t-0.6023634\n",
      "14.0000000\t2.6194724\t-0.6023634\n"
     ]
    },
    {
     "data": {
      "text/plain": [
       "(2.619472420040724, -0.6023633552325565)"
      ]
     },
     "execution_count": 23,
     "metadata": {},
     "output_type": "execute_result"
    }
   ],
   "source": [
    "a = [1, -3, -3, -3, 2]\n",
    "bairstow(a, 0.1, 0.1)"
   ]
  }
 ],
 "metadata": {
  "kernelspec": {
   "display_name": "eda_prog",
   "language": "python",
   "name": "python3"
  },
  "language_info": {
   "codemirror_mode": {
    "name": "ipython",
    "version": 3
   },
   "file_extension": ".py",
   "mimetype": "text/x-python",
   "name": "python",
   "nbconvert_exporter": "python",
   "pygments_lexer": "ipython3",
   "version": "3.11.2"
  },
  "orig_nbformat": 4
 },
 "nbformat": 4,
 "nbformat_minor": 2
}
